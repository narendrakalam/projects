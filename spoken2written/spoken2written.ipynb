{
 "cells": [
  {
   "cell_type": "code",
   "execution_count": 1,
   "metadata": {},
   "outputs": [
    {
     "name": "stdout",
     "output_type": "stream",
     "text": [
      "Collecting spoken2written\n",
      "  Downloading https://files.pythonhosted.org/packages/e8/94/603cbff1564a07c55d2553778b9b366f583ef0c557b81eba3bb3a0a38abe/spoken2written-0.1.4-py3-none-any.whl\n",
      "Requirement already satisfied: spacy in c:\\users\\naren\\anaconda3\\lib\\site-packages (from spoken2written) (2.3.2)\n",
      "Collecting word2number (from spoken2written)\n",
      "  Downloading https://files.pythonhosted.org/packages/4a/29/a31940c848521f0725f0df6b25dca8917f13a2025b0e8fcbe5d0457e45e6/word2number-1.1.zip\n",
      "Requirement already satisfied: murmurhash<1.1.0,>=0.28.0 in c:\\users\\naren\\anaconda3\\lib\\site-packages (from spacy->spoken2written) (1.0.2)\n",
      "Requirement already satisfied: setuptools in c:\\users\\naren\\anaconda3\\lib\\site-packages (from spacy->spoken2written) (41.4.0)\n",
      "Requirement already satisfied: preshed<3.1.0,>=3.0.2 in c:\\users\\naren\\anaconda3\\lib\\site-packages (from spacy->spoken2written) (3.0.2)\n",
      "Requirement already satisfied: wasabi<1.1.0,>=0.4.0 in c:\\users\\naren\\anaconda3\\lib\\site-packages (from spacy->spoken2written) (0.8.0)\n",
      "Requirement already satisfied: tqdm<5.0.0,>=4.38.0 in c:\\users\\naren\\anaconda3\\lib\\site-packages (from spacy->spoken2written) (4.49.0)\n",
      "Requirement already satisfied: requests<3.0.0,>=2.13.0 in c:\\users\\naren\\anaconda3\\lib\\site-packages (from spacy->spoken2written) (2.22.0)\n",
      "Requirement already satisfied: srsly<1.1.0,>=1.0.2 in c:\\users\\naren\\anaconda3\\lib\\site-packages (from spacy->spoken2written) (1.0.2)\n",
      "Requirement already satisfied: cymem<2.1.0,>=2.0.2 in c:\\users\\naren\\anaconda3\\lib\\site-packages (from spacy->spoken2written) (2.0.3)\n",
      "Requirement already satisfied: plac<1.2.0,>=0.9.6 in c:\\users\\naren\\anaconda3\\lib\\site-packages (from spacy->spoken2written) (1.1.3)\n",
      "Requirement already satisfied: catalogue<1.1.0,>=0.0.7 in c:\\users\\naren\\anaconda3\\lib\\site-packages (from spacy->spoken2written) (1.0.0)\n",
      "Requirement already satisfied: thinc==7.4.1 in c:\\users\\naren\\anaconda3\\lib\\site-packages (from spacy->spoken2written) (7.4.1)\n",
      "Requirement already satisfied: blis<0.5.0,>=0.4.0 in c:\\users\\naren\\anaconda3\\lib\\site-packages (from spacy->spoken2written) (0.4.1)\n",
      "Requirement already satisfied: numpy>=1.15.0 in c:\\users\\naren\\anaconda3\\lib\\site-packages (from spacy->spoken2written) (1.16.5)\n",
      "Requirement already satisfied: certifi>=2017.4.17 in c:\\users\\naren\\anaconda3\\lib\\site-packages (from requests<3.0.0,>=2.13.0->spacy->spoken2written) (2019.9.11)\n",
      "Requirement already satisfied: chardet<3.1.0,>=3.0.2 in c:\\users\\naren\\anaconda3\\lib\\site-packages (from requests<3.0.0,>=2.13.0->spacy->spoken2written) (3.0.4)\n",
      "Requirement already satisfied: urllib3!=1.25.0,!=1.25.1,<1.26,>=1.21.1 in c:\\users\\naren\\anaconda3\\lib\\site-packages (from requests<3.0.0,>=2.13.0->spacy->spoken2written) (1.24.2)\n",
      "Requirement already satisfied: idna<2.9,>=2.5 in c:\\users\\naren\\anaconda3\\lib\\site-packages (from requests<3.0.0,>=2.13.0->spacy->spoken2written) (2.8)\n",
      "Requirement already satisfied: importlib-metadata>=0.20; python_version < \"3.8\" in c:\\users\\naren\\anaconda3\\lib\\site-packages (from catalogue<1.1.0,>=0.0.7->spacy->spoken2written) (0.23)\n",
      "Requirement already satisfied: zipp>=0.5 in c:\\users\\naren\\anaconda3\\lib\\site-packages (from importlib-metadata>=0.20; python_version < \"3.8\"->catalogue<1.1.0,>=0.0.7->spacy->spoken2written) (0.6.0)\n",
      "Requirement already satisfied: more-itertools in c:\\users\\naren\\anaconda3\\lib\\site-packages (from zipp>=0.5->importlib-metadata>=0.20; python_version < \"3.8\"->catalogue<1.1.0,>=0.0.7->spacy->spoken2written) (7.2.0)\n",
      "Building wheels for collected packages: word2number\n",
      "  Building wheel for word2number (setup.py): started\n",
      "  Building wheel for word2number (setup.py): finished with status 'done'\n",
      "  Created wheel for word2number: filename=word2number-1.1-cp37-none-any.whl size=5591 sha256=909c0572812bdaeec8b4e0c22d8630f76f12a1bcf6372bdb130202655840e2cf\n",
      "  Stored in directory: C:\\Users\\naren\\AppData\\Local\\pip\\Cache\\wheels\\46\\2f\\53\\5f5c1d275492f2fce1cdab9a9bb12d49286dead829a4078e0e\n",
      "Successfully built word2number\n",
      "Installing collected packages: word2number, spoken2written\n",
      "Successfully installed spoken2written-0.1.4 word2number-1.1\n"
     ]
    }
   ],
   "source": [
    "!pip install spoken2written"
   ]
  },
  {
   "cell_type": "code",
   "execution_count": 2,
   "metadata": {},
   "outputs": [],
   "source": [
    "import spoken2written\n"
   ]
  },
  {
   "cell_type": "code",
   "execution_count": 3,
   "metadata": {},
   "outputs": [],
   "source": [
    "from spoken import TextTranslator"
   ]
  },
  {
   "cell_type": "code",
   "execution_count": 4,
   "metadata": {},
   "outputs": [],
   "source": [
    "test1= \"My life is triple B\"\n"
   ]
  },
  {
   "cell_type": "code",
   "execution_count": 5,
   "metadata": {},
   "outputs": [
    {
     "data": {
      "text/plain": [
       "'My life is BBB'"
      ]
     },
     "execution_count": 5,
     "metadata": {},
     "output_type": "execute_result"
    }
   ],
   "source": [
    "TextTranslator(test)"
   ]
  },
  {
   "cell_type": "code",
   "execution_count": 7,
   "metadata": {},
   "outputs": [
    {
     "data": {
      "text/plain": [
       "'$2'"
      ]
     },
     "execution_count": 7,
     "metadata": {},
     "output_type": "execute_result"
    }
   ],
   "source": [
    "test2=\"two dollars\"\n",
    "TextTranslator(test2)"
   ]
  },
  {
   "cell_type": "code",
   "execution_count": 8,
   "metadata": {},
   "outputs": [
    {
     "data": {
      "text/plain": [
       "'my weight is 55'"
      ]
     },
     "execution_count": 8,
     "metadata": {},
     "output_type": "execute_result"
    }
   ],
   "source": [
    "test3=\"my weight is fifty five kg\"\n",
    "TextTranslator(test3)"
   ]
  },
  {
   "cell_type": "code",
   "execution_count": 11,
   "metadata": {},
   "outputs": [],
   "source": []
  },
  {
   "cell_type": "code",
   "execution_count": null,
   "metadata": {},
   "outputs": [],
   "source": []
  }
 ],
 "metadata": {
  "kernelspec": {
   "display_name": "Python 3",
   "language": "python",
   "name": "python3"
  },
  "language_info": {
   "codemirror_mode": {
    "name": "ipython",
    "version": 3
   },
   "file_extension": ".py",
   "mimetype": "text/x-python",
   "name": "python",
   "nbconvert_exporter": "python",
   "pygments_lexer": "ipython3",
   "version": "3.7.4"
  }
 },
 "nbformat": 4,
 "nbformat_minor": 2
}
